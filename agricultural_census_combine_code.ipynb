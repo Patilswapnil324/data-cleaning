{
 "cells": [
  {
   "cell_type": "code",
   "execution_count": null,
   "id": "8345b8ec",
   "metadata": {},
   "outputs": [],
   "source": [
    "os.chdir(r\"C:\\sociometric-swapnil\\NDAP\\agriculture census\\ZIP\")"
   ]
  },
  {
   "cell_type": "code",
   "execution_count": null,
   "id": "f6e6f753",
   "metadata": {},
   "outputs": [],
   "source": [
    "import pandas as pd\n",
    "from pathlib import Path\n",
    "\n",
    "directory = r\"C:\\sociometric-swapnil\\NDAP\\agriculture census\\ZIP\"\n",
    "\n",
    "# Read each CSV file in dir \"path/to/root_dir\"\n",
    "dfs = []\n",
    "for file in Path(directory).glob(\"**/*.csv\"):\n",
    "    dfs.append(pd.read_csv(file))\n",
    "\n",
    "# Put the dataframes to a single dataframe\n",
    "df = pd.concat(dfs)"
   ]
  },
  {
   "cell_type": "code",
   "execution_count": null,
   "id": "5b1cb8a5",
   "metadata": {},
   "outputs": [],
   "source": [
    "df.columns"
   ]
  },
  {
   "cell_type": "code",
   "execution_count": null,
   "id": "c5fc741f",
   "metadata": {},
   "outputs": [],
   "source": [
    "df.isna().sum()"
   ]
  },
  {
   "cell_type": "code",
   "execution_count": null,
   "id": "c7a0b089",
   "metadata": {},
   "outputs": [],
   "source": [
    "df.info()\n"
   ]
  },
  {
   "cell_type": "code",
   "execution_count": null,
   "id": "7026c257",
   "metadata": {},
   "outputs": [],
   "source": [
    "df.columns=df.columns.str.strip().str.lower()  #white space & lower case"
   ]
  },
  {
   "cell_type": "code",
   "execution_count": null,
   "id": "95bce189",
   "metadata": {},
   "outputs": [],
   "source": [
    "df1 = df.apply(lambda df: df.str.lower().str.strip() if df.dtype == \"object\" else df) #convert all the strings data into lower case &remove white sapece "
   ]
  },
  {
   "cell_type": "code",
   "execution_count": null,
   "id": "55768ca5",
   "metadata": {},
   "outputs": [],
   "source": [
    "df1.shape"
   ]
  },
  {
   "cell_type": "code",
   "execution_count": null,
   "id": "2c2ffcbc",
   "metadata": {},
   "outputs": [],
   "source": [
    "df1.to_csv(\"combined_agriculture census.csv\",na_rep=\"\",index=False)"
   ]
  },
  {
   "cell_type": "code",
   "execution_count": null,
   "id": "00530fc8",
   "metadata": {},
   "outputs": [],
   "source": []
  }
 ],
 "metadata": {
  "kernelspec": {
   "display_name": "Python 3 (ipykernel)",
   "language": "python",
   "name": "python3"
  },
  "language_info": {
   "codemirror_mode": {
    "name": "ipython",
    "version": 3
   },
   "file_extension": ".py",
   "mimetype": "text/x-python",
   "name": "python",
   "nbconvert_exporter": "python",
   "pygments_lexer": "ipython3",
   "version": "3.9.13"
  }
 },
 "nbformat": 4,
 "nbformat_minor": 5
}
