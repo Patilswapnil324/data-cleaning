{
 "cells": [
  {
   "cell_type": "code",
   "execution_count": null,
   "id": "00e5ff0c",
   "metadata": {},
   "outputs": [],
   "source": [
    "# import necessary libraries\n",
    "import pandas as pd\n",
    "import os\n",
    "import glob\n",
    "\n",
    "os.chdir(r\"C:\\sociometric-swapnil\\sm_de_meta_v1\\yearwise_crop_production_states\")"
   ]
  },
  {
   "cell_type": "code",
   "execution_count": null,
   "id": "488f1cd1",
   "metadata": {},
   "outputs": [],
   "source": [
    "\n",
    "  \n",
    "  \n",
    "# use glob to get all the csv files\n",
    "# in the folder\n",
    "path = os.getcwd()\n",
    "csv_files = glob.glob(os.path.join(path,\"*.xls\"))\n",
    "  \n",
    "df1 = pd.DataFrame()     \n",
    "# loop over the list of csv files\n",
    "for i in csv_files:\n",
    "    df = pd.read_excel(i)\n",
    "    df1 = df1.append(df, ignore_index=True)\n",
    "    \n",
    "    # read the csv file\n",
    "     \n",
    "print(df1)\n",
    "  "
   ]
  },
  {
   "cell_type": "code",
   "execution_count": null,
   "id": "b42a2e69",
   "metadata": {},
   "outputs": [],
   "source": [
    "df1"
   ]
  },
  {
   "cell_type": "code",
   "execution_count": null,
   "id": "66b1312c",
   "metadata": {},
   "outputs": [],
   "source": [
    "df2=df1.iloc[1:, :]\n",
    "df2"
   ]
  },
  {
   "cell_type": "code",
   "execution_count": null,
   "id": "844cab58",
   "metadata": {},
   "outputs": [],
   "source": [
    "df2.columns=df2.iloc[0]"
   ]
  },
  {
   "cell_type": "code",
   "execution_count": null,
   "id": "4b31a006",
   "metadata": {},
   "outputs": [],
   "source": [
    "df2=df2.iloc[1:, :]"
   ]
  },
  {
   "cell_type": "code",
   "execution_count": null,
   "id": "ea8e008e",
   "metadata": {},
   "outputs": [],
   "source": [
    "df2[\"State/Crop/District\"]=df2[\"State/Crop/District\"].str.replace(\"\\d+\",\"\")"
   ]
  },
  {
   "cell_type": "code",
   "execution_count": null,
   "id": "ce44f53a",
   "metadata": {},
   "outputs": [],
   "source": [
    "df2.to_csv(\"crop_poduction_stats.csv\",na_rep=\"\",index=False)"
   ]
  }
 ],
 "metadata": {
  "kernelspec": {
   "display_name": "Python 3 (ipykernel)",
   "language": "python",
   "name": "python3"
  },
  "language_info": {
   "codemirror_mode": {
    "name": "ipython",
    "version": 3
   },
   "file_extension": ".py",
   "mimetype": "text/x-python",
   "name": "python",
   "nbconvert_exporter": "python",
   "pygments_lexer": "ipython3",
   "version": "3.9.13"
  }
 },
 "nbformat": 4,
 "nbformat_minor": 5
}
