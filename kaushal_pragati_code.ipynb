{
 "cells": [
  {
   "cell_type": "code",
   "execution_count": null,
   "id": "0fc5180c",
   "metadata": {},
   "outputs": [],
   "source": [
    "import pandas as pd\n",
    "from pathlib import Path\n",
    "\n"
   ]
  },
  {
   "cell_type": "code",
   "execution_count": null,
   "id": "e241cf40",
   "metadata": {},
   "outputs": [],
   "source": [
    "directory = r\"C:\\sociometric-swapnil\\sm_de_meta_v1\\kaushal_pragati\"\n",
    "\n",
    "# Read each CSV file in dir \"path/to/root_dir\"\n",
    "dfs = []\n",
    "for file in Path(directory).glob(\"**/*.csv\"):\n",
    "    dfs.append(pd.read_csv(file))\n",
    "\n",
    "# Put the dataframes to a single dataframe\n",
    "df = pd.concat(dfs)"
   ]
  },
  {
   "cell_type": "code",
   "execution_count": null,
   "id": "6764b663",
   "metadata": {},
   "outputs": [],
   "source": [
    "df.info()"
   ]
  },
  {
   "cell_type": "code",
   "execution_count": null,
   "id": "efd6b0b2",
   "metadata": {},
   "outputs": [],
   "source": [
    "df.iloc[:,0:7] = df.iloc[:,0:7].replace(r'[^0-9a-zA-Z ]', '', regex=True).replace(\"'\", '')#replace all special characters\n",
    "\n"
   ]
  },
  {
   "cell_type": "code",
   "execution_count": null,
   "id": "3882a6c6",
   "metadata": {},
   "outputs": [],
   "source": [
    "df"
   ]
  },
  {
   "cell_type": "code",
   "execution_count": null,
   "id": "7344feeb",
   "metadata": {},
   "outputs": [],
   "source": [
    "df.columns.values[0:8]=[\"state name\",\"overall target_till_march_2023\",\"Total_number_of_candidates_commenced\",\"Total_number_of_candidates_trained\",\n",
    "             \"Total_number_of_candidates_placed\",\"Total_number_of_candidates_assessed\",\"Total_number_of_candidates_certified\",\"Year\"]\n"
   ]
  },
  {
   "cell_type": "code",
   "execution_count": null,
   "id": "59f797f3",
   "metadata": {},
   "outputs": [],
   "source": [
    "df.columns=df.columns.str.strip().str.lower() "
   ]
  },
  {
   "cell_type": "code",
   "execution_count": null,
   "id": "590674af",
   "metadata": {},
   "outputs": [],
   "source": [
    "df"
   ]
  },
  {
   "cell_type": "code",
   "execution_count": null,
   "id": "7f887017",
   "metadata": {},
   "outputs": [],
   "source": [
    "\n",
    "df[['total_number_of_candidates_commenced', 'total_number_of_candidates_trained']] = df[['total_number_of_candidates_commenced', 'total_number_of_candidates_trained']].apply(pd.to_numeric)\n",
    "\n",
    "df[['overall target_till_march_2023', 'total_number_of_candidates_placed']] = df[['overall target_till_march_2023', 'total_number_of_candidates_placed']].apply(pd.to_numeric)\n",
    "\n",
    "df[['total_number_of_candidates_assessed', 'total_number_of_candidates_certified']] = df[['total_number_of_candidates_assessed', 'total_number_of_candidates_certified']].apply(pd.to_numeric)"
   ]
  },
  {
   "cell_type": "code",
   "execution_count": null,
   "id": "6d3033a0",
   "metadata": {},
   "outputs": [],
   "source": [
    "df = df.apply(lambda df: df.str.lower().str.strip() if df.dtype == \"object\" else df) #convert all the strings data into lower case &remove white sapece "
   ]
  },
  {
   "cell_type": "code",
   "execution_count": null,
   "id": "8a401dec",
   "metadata": {},
   "outputs": [],
   "source": [
    "df.to_csv(\"C:\\sociometric-swapnil\\sm_de_meta_v1\\kaushal_pragati\\kaushal_pragati_final.csv\",index=False,na_rep=\"\")"
   ]
  }
 ],
 "metadata": {
  "kernelspec": {
   "display_name": "Python 3 (ipykernel)",
   "language": "python",
   "name": "python3"
  },
  "language_info": {
   "codemirror_mode": {
    "name": "ipython",
    "version": 3
   },
   "file_extension": ".py",
   "mimetype": "text/x-python",
   "name": "python",
   "nbconvert_exporter": "python",
   "pygments_lexer": "ipython3",
   "version": "3.9.13"
  }
 },
 "nbformat": 4,
 "nbformat_minor": 5
}
