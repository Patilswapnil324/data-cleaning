{
 "cells": [
  {
   "cell_type": "code",
   "execution_count": null,
   "id": "12e6c043",
   "metadata": {},
   "outputs": [],
   "source": [
    "import pandas as pd\n",
    "import numpy as np\n",
    "import os\n"
   ]
  },
  {
   "cell_type": "code",
   "execution_count": null,
   "id": "64e6e8d7",
   "metadata": {},
   "outputs": [],
   "source": [
    "#os.chdir(r\"C:\\sociometric-swapnil\\NDAP\")"
   ]
  },
  {
   "cell_type": "code",
   "execution_count": null,
   "id": "8bce5bc3",
   "metadata": {},
   "outputs": [],
   "source": [
    "\n",
    "#livestock\n",
    "df1=pd.read_csv(r\"C:\\sociometric-swapnil\\NDAP\\livestock data\\ZIP\\7088\\NDAP_REPORT_7088.csv\")\n",
    "df2=pd.read_csv(r\"C:\\sociometric-swapnil\\NDAP\\livestock data\\ZIP\\7350\\NDAP_REPORT_7350.csv\")"
   ]
  },
  {
   "cell_type": "code",
   "execution_count": null,
   "id": "46a6cc1a",
   "metadata": {},
   "outputs": [],
   "source": [
    "df1.isna().sum()\n",
    "df2.isna().sum()\n"
   ]
  },
  {
   "cell_type": "code",
   "execution_count": null,
   "id": "ed211154",
   "metadata": {},
   "outputs": [],
   "source": [
    "df3=df1.append(df2,ignore_index=True)"
   ]
  },
  {
   "cell_type": "code",
   "execution_count": null,
   "id": "5992f5ba",
   "metadata": {},
   "outputs": [],
   "source": [
    "df3.isna().sum()"
   ]
  },
  {
   "cell_type": "code",
   "execution_count": null,
   "id": "cf4b4773",
   "metadata": {},
   "outputs": [],
   "source": [
    "df3.info()\n",
    "df3=df3.iloc[:,1:]\n",
    "df3"
   ]
  },
  {
   "cell_type": "code",
   "execution_count": null,
   "id": "bd2e0573",
   "metadata": {},
   "outputs": [],
   "source": [
    "df3.columns=df3.columns.str.strip().str.lower()  #white space & lower case"
   ]
  },
  {
   "cell_type": "code",
   "execution_count": null,
   "id": "43f3d2dd",
   "metadata": {},
   "outputs": [],
   "source": [
    "df4 = df3.apply(lambda df3: df3.str.lower().str.strip() if df3.dtype == \"object\" else df3) #convert all the strings data into lower case &remove white sapece "
   ]
  },
  {
   "cell_type": "code",
   "execution_count": null,
   "id": "5b6b8f0c",
   "metadata": {},
   "outputs": [],
   "source": [
    "df4.info()"
   ]
  },
  {
   "cell_type": "code",
   "execution_count": null,
   "id": "eb03b6e6",
   "metadata": {},
   "outputs": [],
   "source": [
    "df4.isna().sum()"
   ]
  },
  {
   "cell_type": "code",
   "execution_count": null,
   "id": "db064a34",
   "metadata": {},
   "outputs": [],
   "source": [
    "df4.drop_duplicates()"
   ]
  },
  {
   "cell_type": "code",
   "execution_count": null,
   "id": "804e2c5d",
   "metadata": {},
   "outputs": [],
   "source": [
    "df4.to_csv(\"livestock_combined.csv\",index=False,na_rep=\"\")"
   ]
  }
 ],
 "metadata": {
  "kernelspec": {
   "display_name": "Python 3 (ipykernel)",
   "language": "python",
   "name": "python3"
  },
  "language_info": {
   "codemirror_mode": {
    "name": "ipython",
    "version": 3
   },
   "file_extension": ".py",
   "mimetype": "text/x-python",
   "name": "python",
   "nbconvert_exporter": "python",
   "pygments_lexer": "ipython3",
   "version": "3.9.13"
  }
 },
 "nbformat": 4,
 "nbformat_minor": 5
}
